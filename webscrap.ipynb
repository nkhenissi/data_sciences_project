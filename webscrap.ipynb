{
  "nbformat": 4,
  "nbformat_minor": 0,
  "metadata": {
    "colab": {
      "provenance": [],
      "authorship_tag": "ABX9TyO1d19jbSDwgGaknFPJfuip",
      "include_colab_link": true
    },
    "kernelspec": {
      "name": "python3",
      "display_name": "Python 3"
    },
    "language_info": {
      "name": "python"
    }
  },
  "cells": [
    {
      "cell_type": "markdown",
      "metadata": {
        "id": "view-in-github",
        "colab_type": "text"
      },
      "source": [
        "<a href=\"https://colab.research.google.com/github/nkhenissi/data_sciences_project/blob/main/webscrap.ipynb\" target=\"_parent\"><img src=\"https://colab.research.google.com/assets/colab-badge.svg\" alt=\"Open In Colab\"/></a>"
      ]
    },
    {
      "cell_type": "code",
      "execution_count": 1,
      "metadata": {
        "id": "iqqWnAxSJCax"
      },
      "outputs": [],
      "source": [
        "import urllib\n",
        "import bs4\n",
        "import pandas as pd\n",
        "from urllib import request\n",
        "import numpy as np\n",
        "import csv"
      ]
    },
    {
      "cell_type": "code",
      "source": [
        "url=\"https://immobilier.lefigaro.fr/prix-immobilier/marseille/ville-13055#prix-quartier\""
      ],
      "metadata": {
        "id": "YN_lHfwSJLVL"
      },
      "execution_count": 2,
      "outputs": []
    },
    {
      "cell_type": "code",
      "source": [
        "import requests\n",
        "from bs4 import BeautifulSoup\n",
        "import pandas as pd\n",
        "\n",
        "# Envoi d'une requête HTTP GET à l'URL de la page web\n",
        "response = requests.get(url)\n",
        "\n",
        "# Vérification du code de retour de la requête\n",
        "if response.status_code == 200:\n",
        "    # Récupération du contenu HTML de la page\n",
        "    html_content = response.text\n",
        "    # Création d'un objet BeautifulSoup à partir du contenu HTML\n",
        "    soup = BeautifulSoup(html_content, \"html.parser\")\n",
        "    # Création d'un data frame vide\n",
        "    df = pd.DataFrame()\n",
        "    # Récupération des trois premières tables de la page\n",
        "    tables = soup.find_all(\"table\")[:3]\n",
        "    # Parcours de chaque table\n",
        "    for table in tables:\n",
        "        # Récupération des lignes de la table\n",
        "        rows = table.find_all(\"tr\")\n",
        "        # Parcours de chaque ligne\n",
        "        for row in rows:\n",
        "            # Récupération des cellules de la ligne\n",
        "            cells = row.find_all(\"td\")\n",
        "            # Ajout des cellules au data frame\n",
        "            df = df.append(cells, ignore_index=True)\n",
        "    # Enregistrement du data frame dans un fichier CSV ou Excel\n",
        "    #df.to_csv(\"output.csv\")\n",
        "    #df.to_excel(\"output.xlsx\")\n",
        "else:\n",
        "    print(\"Erreur lors de la récupération de la page\")\n"
      ],
      "metadata": {
        "id": "tY5hPWL9LhYj"
      },
      "execution_count": 8,
      "outputs": []
    },
    {
      "cell_type": "code",
      "source": [
        "print(df)"
      ],
      "metadata": {
        "colab": {
          "base_uri": "https://localhost:8080/"
        },
        "id": "0egDZjBxLm_Q",
        "outputId": "156deaff-c00a-43b5-f169-5ed5c62d6787"
      },
      "execution_count": 9,
      "outputs": [
        {
          "output_type": "stream",
          "name": "stdout",
          "text": [
            "                    0\n",
            "0   Studios / 1 pièce\n",
            "1          4 457 €/m2\n",
            "2            2 pièces\n",
            "3          4 238 €/m2\n",
            "4            3 pièces\n",
            "5          3 738 €/m2\n",
            "6            4 pièces\n",
            "7          4 107 €/m2\n",
            "8            5 pièces\n",
            "9          4 530 €/m2\n",
            "10           6 pièces\n",
            "11         4 506 €/m2\n",
            "12   7 pièces et plus\n",
            "13         3 904 €/m2\n",
            "14  Studios / 1 pièce\n",
            "15         4 283 €/m2\n",
            "16           2 pièces\n",
            "17         3 908 €/m2\n",
            "18           3 pièces\n",
            "19         3 495 €/m2\n",
            "20           4 pièces\n",
            "21         3 852 €/m2\n",
            "22           5 pièces\n",
            "23         3 983 €/m2\n",
            "24           6 pièces\n",
            "25         4 367 €/m2\n",
            "26   7 pièces et plus\n",
            "27         3 904 €/m2\n",
            "28  Studios / 1 pièce\n",
            "29         6 134 €/m2\n",
            "30           2 pièces\n",
            "31         5 745 €/m2\n",
            "32           3 pièces\n",
            "33         4 890 €/m2\n",
            "34           4 pièces\n",
            "35         4 955 €/m2\n",
            "36           5 pièces\n",
            "37         6 756 €/m2\n",
            "38           6 pièces\n",
            "39         5 055 €/m2\n",
            "40   7 pièces et plus\n",
            "41                  -\n"
          ]
        }
      ]
    }
  ]
}